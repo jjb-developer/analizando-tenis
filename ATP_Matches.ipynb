{
 "cells": [
  {
   "cell_type": "code",
   "execution_count": 2,
   "metadata": {},
   "outputs": [],
   "source": [
    "import pandas as pd\n",
    "import matplotlib.pyplot as plt"
   ]
  },
  {
   "cell_type": "code",
   "execution_count": 4,
   "metadata": {},
   "outputs": [],
   "source": [
    "data = pd.read_csv('./atp_matches_2000.csv')"
   ]
  },
  {
   "cell_type": "code",
   "execution_count": 8,
   "metadata": {},
   "outputs": [
    {
     "name": "stdout",
     "output_type": "stream",
     "text": [
      "<class 'pandas.core.frame.DataFrame'>\n",
      "RangeIndex: 3378 entries, 0 to 3377\n",
      "Data columns (total 49 columns):\n",
      "tourney_id            3378 non-null object\n",
      "tourney_name          3378 non-null object\n",
      "surface               3378 non-null object\n",
      "draw_size             3378 non-null int64\n",
      "tourney_level         3378 non-null object\n",
      "tourney_date          3378 non-null int64\n",
      "match_num             3378 non-null int64\n",
      "winner_id             3378 non-null int64\n",
      "winner_seed           1228 non-null float64\n",
      "winner_entry          395 non-null object\n",
      "winner_name           3378 non-null object\n",
      "winner_hand           3378 non-null object\n",
      "winner_ht             3278 non-null float64\n",
      "winner_ioc            3378 non-null object\n",
      "winner_age            3377 non-null float64\n",
      "loser_id              3378 non-null int64\n",
      "loser_seed            675 non-null float64\n",
      "loser_entry           662 non-null object\n",
      "loser_name            3378 non-null object\n",
      "loser_hand            3378 non-null object\n",
      "loser_ht              3189 non-null float64\n",
      "loser_ioc             3378 non-null object\n",
      "loser_age             3378 non-null float64\n",
      "score                 3378 non-null object\n",
      "best_of               3378 non-null int64\n",
      "round                 3378 non-null object\n",
      "minutes               2942 non-null float64\n",
      "w_ace                 2942 non-null float64\n",
      "w_df                  2942 non-null float64\n",
      "w_svpt                2942 non-null float64\n",
      "w_1stIn               2942 non-null float64\n",
      "w_1stWon              2942 non-null float64\n",
      "w_2ndWon              2942 non-null float64\n",
      "w_SvGms               2942 non-null float64\n",
      "w_bpSaved             2942 non-null float64\n",
      "w_bpFaced             2942 non-null float64\n",
      "l_ace                 2942 non-null float64\n",
      "l_df                  2942 non-null float64\n",
      "l_svpt                2942 non-null float64\n",
      "l_1stIn               2942 non-null float64\n",
      "l_1stWon              2942 non-null float64\n",
      "l_2ndWon              2942 non-null float64\n",
      "l_SvGms               2942 non-null float64\n",
      "l_bpSaved             2942 non-null float64\n",
      "l_bpFaced             2942 non-null float64\n",
      "winner_rank           3328 non-null float64\n",
      "winner_rank_points    3328 non-null float64\n",
      "loser_rank            3279 non-null float64\n",
      "loser_rank_points     3279 non-null float64\n",
      "dtypes: float64(29), int64(6), object(14)\n",
      "memory usage: 1.1+ MB\n"
     ]
    }
   ],
   "source": [
    "data.info()"
   ]
  },
  {
   "cell_type": "code",
   "execution_count": 18,
   "metadata": {},
   "outputs": [
    {
     "name": "stdout",
     "output_type": "stream",
     "text": [
      "<class 'pandas.core.frame.DataFrame'>\n",
      "RangeIndex: 3378 entries, 0 to 3377\n",
      "Data columns (total 7 columns):\n",
      "minutes        2942 non-null float64\n",
      "round          3378 non-null object\n",
      "winner_ioc     3378 non-null object\n",
      "winner_name    3378 non-null object\n",
      "score          3378 non-null object\n",
      "loser_name     3378 non-null object\n",
      "loser_ioc      3378 non-null object\n",
      "dtypes: float64(1), object(6)\n",
      "memory usage: 105.6+ KB\n"
     ]
    }
   ],
   "source": [
    "matches = data[['minutes','round','winner_ioc','winner_name','score','loser_name','loser_ioc']]\n",
    "matches.info()"
   ]
  },
  {
   "cell_type": "code",
   "execution_count": null,
   "metadata": {},
   "outputs": [],
   "source": []
  }
 ],
 "metadata": {
  "kernelspec": {
   "display_name": "Python 3",
   "language": "python",
   "name": "python3"
  },
  "language_info": {
   "codemirror_mode": {
    "name": "ipython",
    "version": 3
   },
   "file_extension": ".py",
   "mimetype": "text/x-python",
   "name": "python",
   "nbconvert_exporter": "python",
   "pygments_lexer": "ipython3",
   "version": "3.7.1"
  }
 },
 "nbformat": 4,
 "nbformat_minor": 2
}
